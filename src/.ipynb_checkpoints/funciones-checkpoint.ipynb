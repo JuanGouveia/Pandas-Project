{
 "cells": [
  {
   "cell_type": "code",
   "execution_count": 8,
   "id": "8ccce378",
   "metadata": {},
   "outputs": [],
   "source": [
    "import pandas as pd\n",
    "import numpy as np\n",
    "import re"
   ]
  },
  {
   "cell_type": "code",
   "execution_count": 9,
   "id": "0074ce02",
   "metadata": {},
   "outputs": [],
   "source": [
    "def limpiar_type(x):\n",
    "\n",
    "    if pd.isnull(x):        # si es nulo lo convierte a x\n",
    "        return x\n",
    "    elif 'Unprovoked' in x:\n",
    "        return 'Unprovoked'\n",
    "    elif 'Provoked' in x:\n",
    "        return 'Provoked'\n",
    "    else:\n",
    "        return 'Unprovoked'"
   ]
  },
  {
   "cell_type": "code",
   "execution_count": 10,
   "id": "1d2ae0c9",
   "metadata": {},
   "outputs": [],
   "source": [
    "def limpiar_sex(x):\n",
    "\n",
    "    if pd.isnull(x):\n",
    "        return x\n",
    "    elif 'M' in x:\n",
    "        return 'Male'\n",
    "    elif 'F' in x:\n",
    "        return 'Female'\n",
    "    else:\n",
    "        return 'Unknown'"
   ]
  },
  {
   "cell_type": "code",
   "execution_count": 11,
   "id": "34fb3ec9",
   "metadata": {},
   "outputs": [],
   "source": [
    "def limpiar_fatal(x):\n",
    "    x = str(x).lower().strip()     # convertimos todo en str, lo pasamos a minusculas y quitamos los espacios que tengan tanto por der como por izq\n",
    "    if x == 'y':\n",
    "        return 'Yes'\n",
    "    elif x == 'n':\n",
    "        return 'No'\n",
    "    else:\n",
    "        return 'Unknown'"
   ]
  },
  {
   "cell_type": "code",
   "execution_count": 12,
   "id": "4ad213e3",
   "metadata": {},
   "outputs": [],
   "source": [
    "def limpiar_year(fecha):\n",
    "    if pd.isna(fecha):\n",
    "        return 0\n",
    "    elif len(str(int(fecha))) == 4:\n",
    "        return fecha\n",
    "    else:\n",
    "        return 0"
   ]
  },
  {
   "cell_type": "code",
   "execution_count": 13,
   "id": "4cf58314",
   "metadata": {},
   "outputs": [],
   "source": [
    "def limpiar_country(pais):\n",
    "    if re.search(r'\\b(OCEAN|SEA|PACIFIC|AFRICA|ASIA|DIEGO|BETWEEN)\\b', pais, re.IGNORECASE):\n",
    "        return 'UNKNOWN'\n",
    "    else:\n",
    "        return pais"
   ]
  },
  {
   "cell_type": "code",
   "execution_count": 14,
   "id": "5f0d00ae",
   "metadata": {},
   "outputs": [],
   "source": [
    "def limpiar_age(edad):\n",
    "       \n",
    "    # Reemplazar los NaN por 'Unknown'\n",
    "    if pd.isna(edad):\n",
    "        return 'Unknown'\n",
    "    \n",
    "    # Si la edad contiene un rango, calcular la edad media del rango\n",
    "    if 'or' in edad:\n",
    "        edades = re.findall(r'\\d+', edad)\n",
    "        media = (int(edades[0]) + int(edades[1])) / 2\n",
    "        return int(media)\n",
    "    \n",
    "    # Si la edad contiene un rango, calcular la edad media del rango\n",
    "    if 'to' in edad:\n",
    "        edades = re.findall(r'\\d+', edad)\n",
    "        media = (int(edades[0]) + int(edades[1])) / 2\n",
    "        return int(media)\n",
    "    \n",
    "    # Si la edad contiene la palabra \"months\", convertir a años\n",
    "    if 'month' in edad:\n",
    "        meses = re.findall(r'\\d+', edad)\n",
    "        return int(int(meses[0]) / 12)\n",
    "    \n",
    "    # Convertir strings completamente en palabras a 'Unknown'\n",
    "    if not re.match(r'^\\d+|\\d+\\.\\d+$', edad):\n",
    "        return 'Unknown'\n",
    "\n",
    "    # Reemplazar comillas, signos de interrogación por nada\n",
    "    edad = re.sub(r'[\\'\"\\?]', '', edad)\n",
    "\n",
    "    # Reemplazar letras por nada\n",
    "    edad = re.sub(r'[a-zA-Z]', '', edad)\n",
    "\n",
    "    return edad"
   ]
  },
  {
   "cell_type": "code",
   "execution_count": 15,
   "id": "af1bdd93",
   "metadata": {},
   "outputs": [],
   "source": [
    "def limpiar_time(hora):\n",
    "       \n",
    "    # Reemplazar los NaN por 'Unknown'\n",
    "    if pd.isna(hora):\n",
    "        return 'Unknown'\n",
    "    \n",
    "    # Eliminar espacios en blanco al final del string y convertir strings completamente en palabras a 'Unknown'\n",
    "    hora = hora.strip()\n",
    "    if not re.match(r'^\\d+|\\d+\\.\\d+$', hora):\n",
    "        return 'Unknown'\n",
    "\n",
    "    # Reemplazar '--' por '/' en el formato 'xxhxx/xxhxx'\n",
    "    hora = hora.replace('--', '/')\n",
    "\n",
    "    # Reemplazar ' ' por '/' en el formato 'xxhxx/xxhxx'\n",
    "    hora = hora.replace('  ', ' / ')\n",
    "\n",
    "    # Eliminar todo después de un guión o una barra, y convertir a formato 'xxhxx'\n",
    "    hora = re.sub(r'(-|\\/).*', '', hora)\n",
    "    hora = re.sub(r'\\D', '', hora)\n",
    "    if len(hora) == 3:\n",
    "        hora = f\"{hora[:1]}h{hora[1:]:02}\"\n",
    "    elif len(hora) == 4:\n",
    "        hora = f\"{hora[:2]}h{hora[2:]:02}\"\n",
    "    else:\n",
    "        hora = 'Unknown'\n",
    "\n",
    "    return hora"
   ]
  }
 ],
 "metadata": {
  "kernelspec": {
   "display_name": "Python 3 (ipykernel)",
   "language": "python",
   "name": "python3"
  },
  "language_info": {
   "codemirror_mode": {
    "name": "ipython",
    "version": 3
   },
   "file_extension": ".py",
   "mimetype": "text/x-python",
   "name": "python",
   "nbconvert_exporter": "python",
   "pygments_lexer": "ipython3",
   "version": "3.10.9"
  }
 },
 "nbformat": 4,
 "nbformat_minor": 5
}
