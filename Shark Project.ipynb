{
 "cells": [
  {
   "cell_type": "code",
   "execution_count": 53,
   "id": "08d64065",
   "metadata": {},
   "outputs": [],
   "source": [
    "import pandas as pd\n",
    "import numpy as np\n",
    "import re"
   ]
  },
  {
   "cell_type": "code",
   "execution_count": 54,
   "id": "efadbcf9",
   "metadata": {},
   "outputs": [],
   "source": [
    "data = pd.read_csv('../data/attacks.csv', encoding = 'utf-8', encoding_errors = 'ignore')"
   ]
  },
  {
   "attachments": {},
   "cell_type": "markdown",
   "id": "f0f6826e",
   "metadata": {},
   "source": [
    "# Printeamos el DataFrame para visualizar los datos"
   ]
  },
  {
   "cell_type": "code",
   "execution_count": 55,
   "id": "5fb27397",
   "metadata": {},
   "outputs": [
    {
     "data": {
      "text/html": [
       "<div>\n",
       "<style scoped>\n",
       "    .dataframe tbody tr th:only-of-type {\n",
       "        vertical-align: middle;\n",
       "    }\n",
       "\n",
       "    .dataframe tbody tr th {\n",
       "        vertical-align: top;\n",
       "    }\n",
       "\n",
       "    .dataframe thead th {\n",
       "        text-align: right;\n",
       "    }\n",
       "</style>\n",
       "<table border=\"1\" class=\"dataframe\">\n",
       "  <thead>\n",
       "    <tr style=\"text-align: right;\">\n",
       "      <th></th>\n",
       "      <th>Case Number</th>\n",
       "      <th>Date</th>\n",
       "      <th>Year</th>\n",
       "      <th>Type</th>\n",
       "      <th>Country</th>\n",
       "      <th>Area</th>\n",
       "      <th>Location</th>\n",
       "      <th>Activity</th>\n",
       "      <th>Name</th>\n",
       "      <th>Sex</th>\n",
       "      <th>Age</th>\n",
       "      <th>Injury</th>\n",
       "      <th>Fatal (Y/N)</th>\n",
       "      <th>Time</th>\n",
       "      <th>Species</th>\n",
       "      <th>Investigator or Source</th>\n",
       "      <th>pdf</th>\n",
       "      <th>href formula</th>\n",
       "      <th>href</th>\n",
       "      <th>Case Number.1</th>\n",
       "      <th>Case Number.2</th>\n",
       "      <th>original order</th>\n",
       "      <th>Unnamed: 22</th>\n",
       "      <th>Unnamed: 23</th>\n",
       "    </tr>\n",
       "  </thead>\n",
       "  <tbody>\n",
       "    <tr>\n",
       "      <th>0</th>\n",
       "      <td>2018.06.25</td>\n",
       "      <td>25-Jun-2018</td>\n",
       "      <td>2018.0</td>\n",
       "      <td>Boating</td>\n",
       "      <td>USA</td>\n",
       "      <td>California</td>\n",
       "      <td>Oceanside, San Diego County</td>\n",
       "      <td>Paddling</td>\n",
       "      <td>Julie Wolfe</td>\n",
       "      <td>F</td>\n",
       "      <td>57</td>\n",
       "      <td>No injury to occupant, outrigger canoe and pad...</td>\n",
       "      <td>N</td>\n",
       "      <td>18h00</td>\n",
       "      <td>White shark</td>\n",
       "      <td>R. Collier, GSAF</td>\n",
       "      <td>2018.06.25-Wolfe.pdf</td>\n",
       "      <td>http://sharkattackfile.net/spreadsheets/pdf_di...</td>\n",
       "      <td>http://sharkattackfile.net/spreadsheets/pdf_di...</td>\n",
       "      <td>2018.06.25</td>\n",
       "      <td>2018.06.25</td>\n",
       "      <td>6303.0</td>\n",
       "      <td>NaN</td>\n",
       "      <td>NaN</td>\n",
       "    </tr>\n",
       "    <tr>\n",
       "      <th>1</th>\n",
       "      <td>2018.06.18</td>\n",
       "      <td>18-Jun-2018</td>\n",
       "      <td>2018.0</td>\n",
       "      <td>Unprovoked</td>\n",
       "      <td>USA</td>\n",
       "      <td>Georgia</td>\n",
       "      <td>St. Simon Island, Glynn County</td>\n",
       "      <td>Standing</td>\n",
       "      <td>AdysonMcNeely</td>\n",
       "      <td>F</td>\n",
       "      <td>11</td>\n",
       "      <td>Minor injury to left thigh</td>\n",
       "      <td>N</td>\n",
       "      <td>14h00  -15h00</td>\n",
       "      <td>NaN</td>\n",
       "      <td>K.McMurray, TrackingSharks.com</td>\n",
       "      <td>2018.06.18-McNeely.pdf</td>\n",
       "      <td>http://sharkattackfile.net/spreadsheets/pdf_di...</td>\n",
       "      <td>http://sharkattackfile.net/spreadsheets/pdf_di...</td>\n",
       "      <td>2018.06.18</td>\n",
       "      <td>2018.06.18</td>\n",
       "      <td>6302.0</td>\n",
       "      <td>NaN</td>\n",
       "      <td>NaN</td>\n",
       "    </tr>\n",
       "    <tr>\n",
       "      <th>2</th>\n",
       "      <td>2018.06.09</td>\n",
       "      <td>09-Jun-2018</td>\n",
       "      <td>2018.0</td>\n",
       "      <td>Invalid</td>\n",
       "      <td>USA</td>\n",
       "      <td>Hawaii</td>\n",
       "      <td>Habush, Oahu</td>\n",
       "      <td>Surfing</td>\n",
       "      <td>John Denges</td>\n",
       "      <td>M</td>\n",
       "      <td>48</td>\n",
       "      <td>Injury to left lower leg from surfboard skeg</td>\n",
       "      <td>N</td>\n",
       "      <td>07h45</td>\n",
       "      <td>NaN</td>\n",
       "      <td>K.McMurray, TrackingSharks.com</td>\n",
       "      <td>2018.06.09-Denges.pdf</td>\n",
       "      <td>http://sharkattackfile.net/spreadsheets/pdf_di...</td>\n",
       "      <td>http://sharkattackfile.net/spreadsheets/pdf_di...</td>\n",
       "      <td>2018.06.09</td>\n",
       "      <td>2018.06.09</td>\n",
       "      <td>6301.0</td>\n",
       "      <td>NaN</td>\n",
       "      <td>NaN</td>\n",
       "    </tr>\n",
       "    <tr>\n",
       "      <th>3</th>\n",
       "      <td>2018.06.08</td>\n",
       "      <td>08-Jun-2018</td>\n",
       "      <td>2018.0</td>\n",
       "      <td>Unprovoked</td>\n",
       "      <td>AUSTRALIA</td>\n",
       "      <td>New South Wales</td>\n",
       "      <td>Arrawarra Headland</td>\n",
       "      <td>Surfing</td>\n",
       "      <td>male</td>\n",
       "      <td>M</td>\n",
       "      <td>NaN</td>\n",
       "      <td>Minor injury to lower leg</td>\n",
       "      <td>N</td>\n",
       "      <td>NaN</td>\n",
       "      <td>2 m shark</td>\n",
       "      <td>B. Myatt, GSAF</td>\n",
       "      <td>2018.06.08-Arrawarra.pdf</td>\n",
       "      <td>http://sharkattackfile.net/spreadsheets/pdf_di...</td>\n",
       "      <td>http://sharkattackfile.net/spreadsheets/pdf_di...</td>\n",
       "      <td>2018.06.08</td>\n",
       "      <td>2018.06.08</td>\n",
       "      <td>6300.0</td>\n",
       "      <td>NaN</td>\n",
       "      <td>NaN</td>\n",
       "    </tr>\n",
       "    <tr>\n",
       "      <th>4</th>\n",
       "      <td>2018.06.04</td>\n",
       "      <td>04-Jun-2018</td>\n",
       "      <td>2018.0</td>\n",
       "      <td>Provoked</td>\n",
       "      <td>MEXICO</td>\n",
       "      <td>Colima</td>\n",
       "      <td>La Ticla</td>\n",
       "      <td>Free diving</td>\n",
       "      <td>Gustavo Ramos</td>\n",
       "      <td>M</td>\n",
       "      <td>NaN</td>\n",
       "      <td>Lacerations to leg &amp; hand shark PROVOKED INCIDENT</td>\n",
       "      <td>N</td>\n",
       "      <td>NaN</td>\n",
       "      <td>Tiger shark, 3m</td>\n",
       "      <td>A .Kipper</td>\n",
       "      <td>2018.06.04-Ramos.pdf</td>\n",
       "      <td>http://sharkattackfile.net/spreadsheets/pdf_di...</td>\n",
       "      <td>http://sharkattackfile.net/spreadsheets/pdf_di...</td>\n",
       "      <td>2018.06.04</td>\n",
       "      <td>2018.06.04</td>\n",
       "      <td>6299.0</td>\n",
       "      <td>NaN</td>\n",
       "      <td>NaN</td>\n",
       "    </tr>\n",
       "  </tbody>\n",
       "</table>\n",
       "</div>"
      ],
      "text/plain": [
       "  Case Number         Date    Year        Type    Country             Area   \n",
       "0  2018.06.25  25-Jun-2018  2018.0     Boating        USA       California  \\\n",
       "1  2018.06.18  18-Jun-2018  2018.0  Unprovoked        USA          Georgia   \n",
       "2  2018.06.09  09-Jun-2018  2018.0     Invalid        USA           Hawaii   \n",
       "3  2018.06.08  08-Jun-2018  2018.0  Unprovoked  AUSTRALIA  New South Wales   \n",
       "4  2018.06.04  04-Jun-2018  2018.0    Provoked     MEXICO           Colima   \n",
       "\n",
       "                         Location     Activity            Name Sex   Age   \n",
       "0     Oceanside, San Diego County     Paddling     Julie Wolfe    F   57  \\\n",
       "1  St. Simon Island, Glynn County     Standing  AdysonMcNeely     F   11   \n",
       "2                    Habush, Oahu      Surfing     John Denges    M   48   \n",
       "3              Arrawarra Headland      Surfing            male    M  NaN   \n",
       "4                        La Ticla  Free diving  Gustavo Ramos     M  NaN   \n",
       "\n",
       "                                              Injury Fatal (Y/N)   \n",
       "0  No injury to occupant, outrigger canoe and pad...           N  \\\n",
       "1                         Minor injury to left thigh           N   \n",
       "2       Injury to left lower leg from surfboard skeg           N   \n",
       "3                          Minor injury to lower leg           N   \n",
       "4  Lacerations to leg & hand shark PROVOKED INCIDENT           N   \n",
       "\n",
       "            Time         Species           Investigator or Source   \n",
       "0          18h00      White shark                R. Collier, GSAF  \\\n",
       "1  14h00  -15h00              NaN  K.McMurray, TrackingSharks.com   \n",
       "2          07h45              NaN  K.McMurray, TrackingSharks.com   \n",
       "3            NaN        2 m shark                  B. Myatt, GSAF   \n",
       "4            NaN  Tiger shark, 3m                       A .Kipper   \n",
       "\n",
       "                        pdf   \n",
       "0      2018.06.25-Wolfe.pdf  \\\n",
       "1    2018.06.18-McNeely.pdf   \n",
       "2     2018.06.09-Denges.pdf   \n",
       "3  2018.06.08-Arrawarra.pdf   \n",
       "4      2018.06.04-Ramos.pdf   \n",
       "\n",
       "                                        href formula   \n",
       "0  http://sharkattackfile.net/spreadsheets/pdf_di...  \\\n",
       "1  http://sharkattackfile.net/spreadsheets/pdf_di...   \n",
       "2  http://sharkattackfile.net/spreadsheets/pdf_di...   \n",
       "3  http://sharkattackfile.net/spreadsheets/pdf_di...   \n",
       "4  http://sharkattackfile.net/spreadsheets/pdf_di...   \n",
       "\n",
       "                                                href Case Number.1   \n",
       "0  http://sharkattackfile.net/spreadsheets/pdf_di...    2018.06.25  \\\n",
       "1  http://sharkattackfile.net/spreadsheets/pdf_di...    2018.06.18   \n",
       "2  http://sharkattackfile.net/spreadsheets/pdf_di...    2018.06.09   \n",
       "3  http://sharkattackfile.net/spreadsheets/pdf_di...    2018.06.08   \n",
       "4  http://sharkattackfile.net/spreadsheets/pdf_di...    2018.06.04   \n",
       "\n",
       "  Case Number.2  original order Unnamed: 22 Unnamed: 23  \n",
       "0    2018.06.25          6303.0         NaN         NaN  \n",
       "1    2018.06.18          6302.0         NaN         NaN  \n",
       "2    2018.06.09          6301.0         NaN         NaN  \n",
       "3    2018.06.08          6300.0         NaN         NaN  \n",
       "4    2018.06.04          6299.0         NaN         NaN  "
      ]
     },
     "execution_count": 55,
     "metadata": {},
     "output_type": "execute_result"
    }
   ],
   "source": [
    "pd.set_option('display.max_columns', None)\n",
    "\n",
    "data.head()"
   ]
  },
  {
   "cell_type": "code",
   "execution_count": 56,
   "id": "905a01e0",
   "metadata": {},
   "outputs": [
    {
     "data": {
      "text/plain": [
       "(25723, 24)"
      ]
     },
     "execution_count": 56,
     "metadata": {},
     "output_type": "execute_result"
    }
   ],
   "source": [
    "data.shape"
   ]
  },
  {
   "attachments": {},
   "cell_type": "markdown",
   "id": "d975ccde",
   "metadata": {},
   "source": [
    "# Nos deshacemos de las filas duplicadas"
   ]
  },
  {
   "cell_type": "code",
   "execution_count": 57,
   "id": "0c232cb2",
   "metadata": {},
   "outputs": [
    {
     "data": {
      "text/plain": [
       "False"
      ]
     },
     "execution_count": 57,
     "metadata": {},
     "output_type": "execute_result"
    }
   ],
   "source": [
    "data.drop_duplicates().shape == data.shape"
   ]
  },
  {
   "cell_type": "code",
   "execution_count": 58,
   "id": "30694927",
   "metadata": {},
   "outputs": [],
   "source": [
    "data.drop_duplicates(inplace=True)"
   ]
  },
  {
   "cell_type": "code",
   "execution_count": 59,
   "id": "dbbf0c3f",
   "metadata": {},
   "outputs": [
    {
     "data": {
      "text/plain": [
       "(6312, 24)"
      ]
     },
     "execution_count": 59,
     "metadata": {},
     "output_type": "execute_result"
    }
   ],
   "source": [
    "data.shape"
   ]
  },
  {
   "attachments": {},
   "cell_type": "markdown",
   "id": "910287af",
   "metadata": {},
   "source": [
    "# Eliminamos las filas que tengan un porcentaje mayor al 75% de nulos"
   ]
  },
  {
   "cell_type": "code",
   "execution_count": 60,
   "id": "2d63b9b8",
   "metadata": {},
   "outputs": [],
   "source": [
    "porcent_null = (data.isnull().sum(axis = 1) / data.shape[1]) * 100 \n",
    "porcent_bool = porcent_null > 75        \n",
    "data = data.loc[~porcent_bool, :]       "
   ]
  },
  {
   "cell_type": "code",
   "execution_count": 61,
   "id": "184c68eb",
   "metadata": {},
   "outputs": [
    {
     "data": {
      "text/plain": [
       "(6302, 24)"
      ]
     },
     "execution_count": 61,
     "metadata": {},
     "output_type": "execute_result"
    }
   ],
   "source": [
    "data.shape"
   ]
  },
  {
   "attachments": {},
   "cell_type": "markdown",
   "id": "7370c035",
   "metadata": {},
   "source": [
    "# Y reseteamos los indices de nuestro DataFrame"
   ]
  },
  {
   "cell_type": "code",
   "execution_count": 62,
   "id": "e12a7ada",
   "metadata": {},
   "outputs": [
    {
     "data": {
      "text/html": [
       "<div>\n",
       "<style scoped>\n",
       "    .dataframe tbody tr th:only-of-type {\n",
       "        vertical-align: middle;\n",
       "    }\n",
       "\n",
       "    .dataframe tbody tr th {\n",
       "        vertical-align: top;\n",
       "    }\n",
       "\n",
       "    .dataframe thead th {\n",
       "        text-align: right;\n",
       "    }\n",
       "</style>\n",
       "<table border=\"1\" class=\"dataframe\">\n",
       "  <thead>\n",
       "    <tr style=\"text-align: right;\">\n",
       "      <th></th>\n",
       "      <th>Case Number</th>\n",
       "      <th>Date</th>\n",
       "      <th>Year</th>\n",
       "      <th>Type</th>\n",
       "      <th>Country</th>\n",
       "      <th>Area</th>\n",
       "      <th>Location</th>\n",
       "      <th>Activity</th>\n",
       "      <th>Name</th>\n",
       "      <th>Sex</th>\n",
       "      <th>Age</th>\n",
       "      <th>Injury</th>\n",
       "      <th>Fatal (Y/N)</th>\n",
       "      <th>Time</th>\n",
       "      <th>Species</th>\n",
       "      <th>Investigator or Source</th>\n",
       "      <th>pdf</th>\n",
       "      <th>href formula</th>\n",
       "      <th>href</th>\n",
       "      <th>Case Number.1</th>\n",
       "      <th>Case Number.2</th>\n",
       "      <th>original order</th>\n",
       "      <th>Unnamed: 22</th>\n",
       "      <th>Unnamed: 23</th>\n",
       "    </tr>\n",
       "  </thead>\n",
       "  <tbody>\n",
       "    <tr>\n",
       "      <th>6297</th>\n",
       "      <td>ND.0005</td>\n",
       "      <td>Before 1903</td>\n",
       "      <td>0.0</td>\n",
       "      <td>Unprovoked</td>\n",
       "      <td>AUSTRALIA</td>\n",
       "      <td>Western Australia</td>\n",
       "      <td>Roebuck Bay</td>\n",
       "      <td>Diving</td>\n",
       "      <td>male</td>\n",
       "      <td>M</td>\n",
       "      <td>NaN</td>\n",
       "      <td>FATAL</td>\n",
       "      <td>Y</td>\n",
       "      <td>NaN</td>\n",
       "      <td>NaN</td>\n",
       "      <td>H. Taunton; N. Bartlett,  p. 234</td>\n",
       "      <td>ND-0005-RoebuckBay.pdf</td>\n",
       "      <td>http://sharkattackfile.net/spreadsheets/pdf_di...</td>\n",
       "      <td>http://sharkattackfile.net/spreadsheets/pdf_di...</td>\n",
       "      <td>ND.0005</td>\n",
       "      <td>ND.0005</td>\n",
       "      <td>6.0</td>\n",
       "      <td>NaN</td>\n",
       "      <td>NaN</td>\n",
       "    </tr>\n",
       "    <tr>\n",
       "      <th>6298</th>\n",
       "      <td>ND.0004</td>\n",
       "      <td>Before 1903</td>\n",
       "      <td>0.0</td>\n",
       "      <td>Unprovoked</td>\n",
       "      <td>AUSTRALIA</td>\n",
       "      <td>Western Australia</td>\n",
       "      <td>NaN</td>\n",
       "      <td>Pearl diving</td>\n",
       "      <td>Ahmun</td>\n",
       "      <td>M</td>\n",
       "      <td>NaN</td>\n",
       "      <td>FATAL</td>\n",
       "      <td>Y</td>\n",
       "      <td>NaN</td>\n",
       "      <td>NaN</td>\n",
       "      <td>H. Taunton; N. Bartlett,  pp. 233-234</td>\n",
       "      <td>ND-0004-Ahmun.pdf</td>\n",
       "      <td>http://sharkattackfile.net/spreadsheets/pdf_di...</td>\n",
       "      <td>http://sharkattackfile.net/spreadsheets/pdf_di...</td>\n",
       "      <td>ND.0004</td>\n",
       "      <td>ND.0004</td>\n",
       "      <td>5.0</td>\n",
       "      <td>NaN</td>\n",
       "      <td>NaN</td>\n",
       "    </tr>\n",
       "    <tr>\n",
       "      <th>6299</th>\n",
       "      <td>ND.0003</td>\n",
       "      <td>1900-1905</td>\n",
       "      <td>0.0</td>\n",
       "      <td>Unprovoked</td>\n",
       "      <td>USA</td>\n",
       "      <td>North Carolina</td>\n",
       "      <td>Ocracoke Inlet</td>\n",
       "      <td>Swimming</td>\n",
       "      <td>Coast Guard personnel</td>\n",
       "      <td>M</td>\n",
       "      <td>NaN</td>\n",
       "      <td>FATAL</td>\n",
       "      <td>Y</td>\n",
       "      <td>NaN</td>\n",
       "      <td>NaN</td>\n",
       "      <td>F. Schwartz, p.23; C. Creswell, GSAF</td>\n",
       "      <td>ND-0003-Ocracoke_1900-1905.pdf</td>\n",
       "      <td>http://sharkattackfile.net/spreadsheets/pdf_di...</td>\n",
       "      <td>http://sharkattackfile.net/spreadsheets/pdf_di...</td>\n",
       "      <td>ND.0003</td>\n",
       "      <td>ND.0003</td>\n",
       "      <td>4.0</td>\n",
       "      <td>NaN</td>\n",
       "      <td>NaN</td>\n",
       "    </tr>\n",
       "    <tr>\n",
       "      <th>6300</th>\n",
       "      <td>ND.0002</td>\n",
       "      <td>1883-1889</td>\n",
       "      <td>0.0</td>\n",
       "      <td>Unprovoked</td>\n",
       "      <td>PANAMA</td>\n",
       "      <td>NaN</td>\n",
       "      <td>Panama Bay 8N, 79W</td>\n",
       "      <td>NaN</td>\n",
       "      <td>Jules Patterson</td>\n",
       "      <td>M</td>\n",
       "      <td>NaN</td>\n",
       "      <td>FATAL</td>\n",
       "      <td>Y</td>\n",
       "      <td>NaN</td>\n",
       "      <td>NaN</td>\n",
       "      <td>The Sun, 10/20/1938</td>\n",
       "      <td>ND-0002-JulesPatterson.pdf</td>\n",
       "      <td>http://sharkattackfile.net/spreadsheets/pdf_di...</td>\n",
       "      <td>http://sharkattackfile.net/spreadsheets/pdf_di...</td>\n",
       "      <td>ND.0002</td>\n",
       "      <td>ND.0002</td>\n",
       "      <td>3.0</td>\n",
       "      <td>NaN</td>\n",
       "      <td>NaN</td>\n",
       "    </tr>\n",
       "    <tr>\n",
       "      <th>6301</th>\n",
       "      <td>ND.0001</td>\n",
       "      <td>1845-1853</td>\n",
       "      <td>0.0</td>\n",
       "      <td>Unprovoked</td>\n",
       "      <td>CEYLON (SRI LANKA)</td>\n",
       "      <td>Eastern Province</td>\n",
       "      <td>Below the English fort, Trincomalee</td>\n",
       "      <td>Swimming</td>\n",
       "      <td>male</td>\n",
       "      <td>M</td>\n",
       "      <td>15</td>\n",
       "      <td>FATAL. \"Shark bit him in half, carrying away t...</td>\n",
       "      <td>Y</td>\n",
       "      <td>NaN</td>\n",
       "      <td>NaN</td>\n",
       "      <td>S.W. Baker</td>\n",
       "      <td>ND-0001-Ceylon.pdf</td>\n",
       "      <td>http://sharkattackfile.net/spreadsheets/pdf_di...</td>\n",
       "      <td>http://sharkattackfile.net/spreadsheets/pdf_di...</td>\n",
       "      <td>ND.0001</td>\n",
       "      <td>ND.0001</td>\n",
       "      <td>2.0</td>\n",
       "      <td>NaN</td>\n",
       "      <td>NaN</td>\n",
       "    </tr>\n",
       "  </tbody>\n",
       "</table>\n",
       "</div>"
      ],
      "text/plain": [
       "     Case Number         Date  Year        Type             Country   \n",
       "6297     ND.0005  Before 1903   0.0  Unprovoked           AUSTRALIA  \\\n",
       "6298     ND.0004  Before 1903   0.0  Unprovoked           AUSTRALIA   \n",
       "6299     ND.0003    1900-1905   0.0  Unprovoked                 USA   \n",
       "6300     ND.0002    1883-1889   0.0  Unprovoked              PANAMA   \n",
       "6301     ND.0001    1845-1853   0.0  Unprovoked  CEYLON (SRI LANKA)   \n",
       "\n",
       "                   Area                             Location      Activity   \n",
       "6297  Western Australia                          Roebuck Bay        Diving  \\\n",
       "6298  Western Australia                                  NaN  Pearl diving   \n",
       "6299     North Carolina                       Ocracoke Inlet      Swimming   \n",
       "6300                NaN                   Panama Bay 8N, 79W           NaN   \n",
       "6301   Eastern Province  Below the English fort, Trincomalee      Swimming   \n",
       "\n",
       "                       Name Sex   Age   \n",
       "6297                   male    M  NaN  \\\n",
       "6298                  Ahmun    M  NaN   \n",
       "6299  Coast Guard personnel    M  NaN   \n",
       "6300        Jules Patterson    M  NaN   \n",
       "6301                   male    M   15   \n",
       "\n",
       "                                                 Injury Fatal (Y/N) Time   \n",
       "6297                                              FATAL           Y  NaN  \\\n",
       "6298                                              FATAL           Y  NaN   \n",
       "6299                                              FATAL           Y  NaN   \n",
       "6300                                              FATAL           Y  NaN   \n",
       "6301  FATAL. \"Shark bit him in half, carrying away t...           Y  NaN   \n",
       "\n",
       "     Species                  Investigator or Source   \n",
       "6297      NaN       H. Taunton; N. Bartlett,  p. 234  \\\n",
       "6298      NaN  H. Taunton; N. Bartlett,  pp. 233-234   \n",
       "6299      NaN   F. Schwartz, p.23; C. Creswell, GSAF   \n",
       "6300      NaN                    The Sun, 10/20/1938   \n",
       "6301      NaN                             S.W. Baker   \n",
       "\n",
       "                                 pdf   \n",
       "6297          ND-0005-RoebuckBay.pdf  \\\n",
       "6298               ND-0004-Ahmun.pdf   \n",
       "6299  ND-0003-Ocracoke_1900-1905.pdf   \n",
       "6300      ND-0002-JulesPatterson.pdf   \n",
       "6301              ND-0001-Ceylon.pdf   \n",
       "\n",
       "                                           href formula   \n",
       "6297  http://sharkattackfile.net/spreadsheets/pdf_di...  \\\n",
       "6298  http://sharkattackfile.net/spreadsheets/pdf_di...   \n",
       "6299  http://sharkattackfile.net/spreadsheets/pdf_di...   \n",
       "6300  http://sharkattackfile.net/spreadsheets/pdf_di...   \n",
       "6301  http://sharkattackfile.net/spreadsheets/pdf_di...   \n",
       "\n",
       "                                                   href Case Number.1   \n",
       "6297  http://sharkattackfile.net/spreadsheets/pdf_di...       ND.0005  \\\n",
       "6298  http://sharkattackfile.net/spreadsheets/pdf_di...       ND.0004   \n",
       "6299  http://sharkattackfile.net/spreadsheets/pdf_di...       ND.0003   \n",
       "6300  http://sharkattackfile.net/spreadsheets/pdf_di...       ND.0002   \n",
       "6301  http://sharkattackfile.net/spreadsheets/pdf_di...       ND.0001   \n",
       "\n",
       "     Case Number.2  original order Unnamed: 22 Unnamed: 23  \n",
       "6297       ND.0005             6.0         NaN         NaN  \n",
       "6298       ND.0004             5.0         NaN         NaN  \n",
       "6299       ND.0003             4.0         NaN         NaN  \n",
       "6300       ND.0002             3.0         NaN         NaN  \n",
       "6301       ND.0001             2.0         NaN         NaN  "
      ]
     },
     "execution_count": 62,
     "metadata": {},
     "output_type": "execute_result"
    }
   ],
   "source": [
    "data = data.reset_index(drop = True)\n",
    "data.tail()"
   ]
  },
  {
   "attachments": {},
   "cell_type": "markdown",
   "id": "c6d6a72f",
   "metadata": {},
   "source": [
    "# Ahora empezamos con la limpieza por columnas "
   ]
  },
  {
   "attachments": {},
   "cell_type": "markdown",
   "id": "773b5a20",
   "metadata": {},
   "source": [
    "### Columna Type"
   ]
  },
  {
   "cell_type": "code",
   "execution_count": 63,
   "id": "24dc13e9",
   "metadata": {},
   "outputs": [
    {
     "data": {
      "text/plain": [
       "Type\n",
       "Unprovoked      4595\n",
       "Provoked         574\n",
       "Invalid          547\n",
       "Sea Disaster     239\n",
       "Boating          203\n",
       "Boat             137\n",
       "Questionable       2\n",
       "Boatomg            1\n",
       "Name: count, dtype: int64"
      ]
     },
     "execution_count": 63,
     "metadata": {},
     "output_type": "execute_result"
    }
   ],
   "source": [
    "data['Type'].value_counts()"
   ]
  },
  {
   "cell_type": "code",
   "execution_count": 64,
   "id": "f513fdee",
   "metadata": {},
   "outputs": [],
   "source": [
    "def limpiar_type(x):\n",
    "\n",
    "    if pd.isnull(x):\n",
    "        return x\n",
    "    elif 'Unprovoked' in x:\n",
    "        return 'Unprovoked'\n",
    "    elif 'Provoked' in x:\n",
    "        return 'Provoked'\n",
    "    else:\n",
    "        return 'Unprovoked'"
   ]
  },
  {
   "cell_type": "code",
   "execution_count": 65,
   "id": "956cfb93",
   "metadata": {},
   "outputs": [
    {
     "data": {
      "text/plain": [
       "Type\n",
       "Unprovoked    5724\n",
       "Provoked       574\n",
       "Name: count, dtype: int64"
      ]
     },
     "execution_count": 65,
     "metadata": {},
     "output_type": "execute_result"
    }
   ],
   "source": [
    "data.Type = data.Type.apply(limpiar_type)\n",
    "data['Type'].value_counts()"
   ]
  },
  {
   "attachments": {},
   "cell_type": "markdown",
   "id": "c0624cb0",
   "metadata": {},
   "source": [
    "### Columna Sex"
   ]
  },
  {
   "cell_type": "code",
   "execution_count": 66,
   "id": "cc647de1",
   "metadata": {},
   "outputs": [
    {
     "data": {
      "text/plain": [
       "Sex \n",
       "M      5094\n",
       "F       637\n",
       "M         2\n",
       "N         2\n",
       "lli       1\n",
       ".         1\n",
       "Name: count, dtype: int64"
      ]
     },
     "execution_count": 66,
     "metadata": {},
     "output_type": "execute_result"
    }
   ],
   "source": [
    "data['Sex '].value_counts()"
   ]
  },
  {
   "cell_type": "code",
   "execution_count": 67,
   "id": "4bf097b6",
   "metadata": {},
   "outputs": [],
   "source": [
    "data.rename(columns = {'Sex ': 'Sex'}, inplace=True)"
   ]
  },
  {
   "cell_type": "code",
   "execution_count": 68,
   "id": "e0b838ea",
   "metadata": {},
   "outputs": [],
   "source": [
    "def limpiar_sex(x):\n",
    "\n",
    "    if pd.isnull(x):\n",
    "        return x\n",
    "    elif 'M' in x:\n",
    "        return 'Male'\n",
    "    elif 'F' in x:\n",
    "        return 'Female'\n",
    "    else:\n",
    "        return 'Unknown'"
   ]
  },
  {
   "cell_type": "code",
   "execution_count": 69,
   "id": "99a17e51",
   "metadata": {},
   "outputs": [
    {
     "data": {
      "text/plain": [
       "Sex\n",
       "Male       5096\n",
       "Female      637\n",
       "Unknown       4\n",
       "Name: count, dtype: int64"
      ]
     },
     "execution_count": 69,
     "metadata": {},
     "output_type": "execute_result"
    }
   ],
   "source": [
    "data.Sex = data.Sex.apply(limpiar_sex)\n",
    "data['Sex'].value_counts()"
   ]
  },
  {
   "attachments": {},
   "cell_type": "markdown",
   "id": "93297cf3",
   "metadata": {},
   "source": [
    "### Columna Fatal"
   ]
  },
  {
   "cell_type": "code",
   "execution_count": 70,
   "id": "9ddbb6c4",
   "metadata": {},
   "outputs": [
    {
     "data": {
      "text/plain": [
       "Fatal (Y/N)\n",
       "N          4293\n",
       "Y          1388\n",
       "UNKNOWN      71\n",
       " N            7\n",
       "M             1\n",
       "2017          1\n",
       "N             1\n",
       "y             1\n",
       "Name: count, dtype: int64"
      ]
     },
     "execution_count": 70,
     "metadata": {},
     "output_type": "execute_result"
    }
   ],
   "source": [
    "data['Fatal (Y/N)'].value_counts()"
   ]
  },
  {
   "cell_type": "code",
   "execution_count": 71,
   "id": "1136c80f",
   "metadata": {},
   "outputs": [],
   "source": [
    "data.rename(columns = {'Fatal (Y/N)': 'Fatal'}, inplace=True)"
   ]
  },
  {
   "cell_type": "code",
   "execution_count": 72,
   "id": "8f1303e2",
   "metadata": {},
   "outputs": [],
   "source": [
    "def limpiar_fatal(x):\n",
    "    x = str(x).lower().strip()\n",
    "    if x == 'y':\n",
    "        return 'Yes'\n",
    "    elif x == 'n':\n",
    "        return 'No'\n",
    "    else:\n",
    "        return 'Unknown'"
   ]
  },
  {
   "cell_type": "code",
   "execution_count": 73,
   "id": "28958c2a",
   "metadata": {},
   "outputs": [],
   "source": [
    "data['Fatal'] = data['Fatal'].apply(limpiar_fatal)"
   ]
  },
  {
   "cell_type": "code",
   "execution_count": 74,
   "id": "b6c936b8",
   "metadata": {},
   "outputs": [
    {
     "data": {
      "text/plain": [
       "Fatal\n",
       "No         4301\n",
       "Yes        1389\n",
       "Unknown     612\n",
       "Name: count, dtype: int64"
      ]
     },
     "execution_count": 74,
     "metadata": {},
     "output_type": "execute_result"
    }
   ],
   "source": [
    "data['Fatal'].value_counts()"
   ]
  },
  {
   "attachments": {},
   "cell_type": "markdown",
   "id": "c4b58b58",
   "metadata": {},
   "source": [
    "### Columna Year"
   ]
  },
  {
   "cell_type": "code",
   "execution_count": 75,
   "id": "6d3c350e",
   "metadata": {},
   "outputs": [
    {
     "data": {
      "text/plain": [
       "Year\n",
       "2015.0    143\n",
       "2017.0    136\n",
       "2016.0    130\n",
       "2011.0    128\n",
       "2014.0    127\n",
       "Name: count, dtype: int64"
      ]
     },
     "execution_count": 75,
     "metadata": {},
     "output_type": "execute_result"
    }
   ],
   "source": [
    "data.Year.value_counts().head()"
   ]
  },
  {
   "cell_type": "code",
   "execution_count": 76,
   "id": "d17c8960",
   "metadata": {},
   "outputs": [],
   "source": [
    "def limpiar_year(fecha):\n",
    "    if pd.isna(fecha):\n",
    "        return 0\n",
    "    elif len(str(int(fecha))) == 4:\n",
    "        return fecha\n",
    "    else:\n",
    "        return 0"
   ]
  },
  {
   "cell_type": "code",
   "execution_count": 77,
   "id": "9d36a49a",
   "metadata": {},
   "outputs": [],
   "source": [
    "data['Year'] = data['Year'].apply(limpiar_year)"
   ]
  },
  {
   "cell_type": "code",
   "execution_count": 78,
   "id": "6465b343",
   "metadata": {},
   "outputs": [],
   "source": [
    "data['Year'] = data['Year'].astype(int)\n",
    "data['Year'] = data['Year'].replace(0, 'Unknown')"
   ]
  },
  {
   "cell_type": "code",
   "execution_count": 79,
   "id": "f0492e5e",
   "metadata": {},
   "outputs": [
    {
     "data": {
      "text/plain": [
       "Year\n",
       "2015       143\n",
       "2017       136\n",
       "Unknown    130\n",
       "2016       130\n",
       "2011       128\n",
       "Name: count, dtype: int64"
      ]
     },
     "execution_count": 79,
     "metadata": {},
     "output_type": "execute_result"
    }
   ],
   "source": [
    "data.Year.value_counts().head()"
   ]
  },
  {
   "attachments": {},
   "cell_type": "markdown",
   "id": "0ba5522b",
   "metadata": {},
   "source": [
    "### Columna Country"
   ]
  },
  {
   "cell_type": "code",
   "execution_count": 80,
   "id": "54c7b2d9",
   "metadata": {},
   "outputs": [
    {
     "data": {
      "text/plain": [
       "Country\n",
       "USA                 2229\n",
       "AUSTRALIA           1338\n",
       "SOUTH AFRICA         579\n",
       "PAPUA NEW GUINEA     134\n",
       "NEW ZEALAND          128\n",
       "Name: count, dtype: int64"
      ]
     },
     "execution_count": 80,
     "metadata": {},
     "output_type": "execute_result"
    }
   ],
   "source": [
    "data['Country'].value_counts().head()"
   ]
  },
  {
   "cell_type": "code",
   "execution_count": 81,
   "id": "7c36b658",
   "metadata": {},
   "outputs": [],
   "source": [
    "def limpiar_country(pais):\n",
    "    if re.search(r'\\b(OCEAN|SEA|PACIFIC|AFRICA|ASIA|DIEGO|BETWEEN)\\b', pais, re.IGNORECASE):\n",
    "        return 'UNKNOWN'\n",
    "    else:\n",
    "        return pais"
   ]
  },
  {
   "cell_type": "code",
   "execution_count": 82,
   "id": "98068ea6",
   "metadata": {},
   "outputs": [],
   "source": [
    "data['Country'] = data['Country'].str.upper().str.strip().fillna('UNKNOWN')\n",
    "data['Country'] = data['Country'].str.replace(r'?', '').str.strip()\n",
    "data['Country'] = data['Country'].str.replace(r'&', '/')\n",
    "data['Country'] = data['Country'].str.replace('ISLANDAS', 'ISLANDS')\n",
    "data['Country'] = data['Country'].str.replace('(UAE)', '').str.strip()\n",
    "data['Country'] = data['Country'].str.replace('(SRI LANKA)', '').str.strip()\n",
    "data['Country'] = data['Country'].str.replace('DIEGO GARCIA', 'UNKNOWN')\n",
    "data['Country'] = data['Country'].str.replace('BETWEEN PORTUGAL / INDIA', 'UNKNOWN')"
   ]
  },
  {
   "cell_type": "code",
   "execution_count": 83,
   "id": "c880dbfc",
   "metadata": {},
   "outputs": [],
   "source": [
    "data['Country'] = data['Country'].apply(limpiar_country)"
   ]
  },
  {
   "cell_type": "code",
   "execution_count": 84,
   "id": "eac3718b",
   "metadata": {},
   "outputs": [
    {
     "data": {
      "text/plain": [
       "Year\n",
       "2015       143\n",
       "2017       136\n",
       "Unknown    130\n",
       "2016       130\n",
       "2011       128\n",
       "Name: count, dtype: int64"
      ]
     },
     "execution_count": 84,
     "metadata": {},
     "output_type": "execute_result"
    }
   ],
   "source": [
    "data.Year.value_counts().head()"
   ]
  },
  {
   "attachments": {},
   "cell_type": "markdown",
   "id": "3f01284e",
   "metadata": {},
   "source": [
    "### Columna Age"
   ]
  },
  {
   "cell_type": "code",
   "execution_count": 85,
   "id": "382d8977",
   "metadata": {},
   "outputs": [
    {
     "data": {
      "text/plain": [
       "Age\n",
       "17    154\n",
       "18    150\n",
       "19    142\n",
       "20    141\n",
       "15    139\n",
       "Name: count, dtype: int64"
      ]
     },
     "execution_count": 85,
     "metadata": {},
     "output_type": "execute_result"
    }
   ],
   "source": [
    "data.Age.value_counts().head()"
   ]
  },
  {
   "cell_type": "code",
   "execution_count": 86,
   "id": "30439587",
   "metadata": {},
   "outputs": [],
   "source": [
    "def limpiar_age(edad):\n",
    "       \n",
    "    if pd.isna(edad):\n",
    "        return 'Unknown'\n",
    "\n",
    "    if 'or' in edad:\n",
    "        edades = re.findall(r'\\d+', edad)\n",
    "        media = (int(edades[0]) + int(edades[1])) / 2\n",
    "        return int(media)\n",
    "    \n",
    "    if 'to' in edad:\n",
    "        edades = re.findall(r'\\d+', edad)\n",
    "        media = (int(edades[0]) + int(edades[1])) / 2\n",
    "        return int(media)\n",
    "   \n",
    "    if 'month' in edad:\n",
    "        meses = re.findall(r'\\d+', edad)\n",
    "        return int(int(meses[0]) / 12)\n",
    "    \n",
    "    if not re.match(r'^\\d+|\\d+\\.\\d+$', edad):\n",
    "        return 'Unknown'\n",
    "\n",
    "    edad = re.sub(r'[\\'\"\\?]', '', edad)\n",
    "    edad = re.sub(r'[a-zA-Z]', '', edad)\n",
    "\n",
    "    return edad"
   ]
  },
  {
   "cell_type": "code",
   "execution_count": 87,
   "id": "36ac2d8d",
   "metadata": {},
   "outputs": [],
   "source": [
    "data['Age'] = data['Age'].apply(limpiar_age)\n",
    "data['Age'] = data['Age'].astype(str)"
   ]
  },
  {
   "cell_type": "code",
   "execution_count": 88,
   "id": "1ec79860",
   "metadata": {},
   "outputs": [],
   "source": [
    "data['Age'] = data['Age'].str.replace('21 & ', '21 & Unknown')\n",
    "data['Age'] = data['Age'].str.replace('7      &    31', '7 & 31')\n",
    "data['Age'] = data['Age'].str.replace('37, 67, 35, 27,   & 27', '37, 67, 35, 27, Unknown & 27')\n",
    "data['Age'] = data['Age'].str.replace('21, 34,24 & 35', '21, 34, 24 & 35')"
   ]
  },
  {
   "cell_type": "code",
   "execution_count": 89,
   "id": "fcb1e6f8",
   "metadata": {},
   "outputs": [
    {
     "data": {
      "text/plain": [
       "Age\n",
       "Unknown    2871\n",
       "17          155\n",
       "20          150\n",
       "18          150\n",
       "19          143\n",
       "Name: count, dtype: int64"
      ]
     },
     "execution_count": 89,
     "metadata": {},
     "output_type": "execute_result"
    }
   ],
   "source": [
    "data.Age.value_counts().head()"
   ]
  },
  {
   "attachments": {},
   "cell_type": "markdown",
   "id": "58dcf521",
   "metadata": {},
   "source": [
    "### Columna Time"
   ]
  },
  {
   "cell_type": "code",
   "execution_count": 90,
   "id": "a1baa277",
   "metadata": {},
   "outputs": [
    {
     "data": {
      "text/plain": [
       "Time\n",
       "Afternoon    187\n",
       "11h00        128\n",
       "Morning      121\n",
       "12h00        109\n",
       "15h00        108\n",
       "Name: count, dtype: int64"
      ]
     },
     "execution_count": 90,
     "metadata": {},
     "output_type": "execute_result"
    }
   ],
   "source": [
    "data['Time'].value_counts().head()"
   ]
  },
  {
   "cell_type": "code",
   "execution_count": 91,
   "id": "7850c9c4",
   "metadata": {},
   "outputs": [],
   "source": [
    "def limpiar_time(hora):\n",
    "       \n",
    "    if pd.isna(hora):\n",
    "        return 'Unknown'\n",
    "    \n",
    "    hora = hora.strip()\n",
    "    if not re.match(r'^\\d+|\\d+\\.\\d+$', hora):\n",
    "        return 'Unknown'\n",
    "\n",
    "    if len(hora) == 3:\n",
    "        hora = f\"{hora[:1]}h{hora[1:]:02}\"\n",
    "    elif len(hora) == 4:\n",
    "        hora = f\"{hora[:2]}h{hora[2:]:02}\"\n",
    "    else:\n",
    "        hora = 'Unknown'\n",
    "        \n",
    "    hora = hora.replace('--', '/')\n",
    "    hora = hora.replace('  ', ' / ')\n",
    "    hora = re.sub(r'(-|\\/).*', '', hora)\n",
    "    hora = re.sub(r'\\D', '', hora)\n",
    "\n",
    "    return hora"
   ]
  },
  {
   "cell_type": "code",
   "execution_count": 92,
   "id": "5761d9da",
   "metadata": {},
   "outputs": [],
   "source": [
    "data[\"Time\"] = data[\"Time\"].apply(limpiar_time)"
   ]
  },
  {
   "cell_type": "code",
   "execution_count": 93,
   "id": "80588ee9",
   "metadata": {},
   "outputs": [
    {
     "data": {
      "text/plain": [
       "Time\n",
       "Unknown    3943\n",
       "           2352\n",
       "1600          2\n",
       "900           1\n",
       "1300          1\n",
       "Name: count, dtype: int64"
      ]
     },
     "execution_count": 93,
     "metadata": {},
     "output_type": "execute_result"
    }
   ],
   "source": [
    "data['Time'].value_counts().head()"
   ]
  },
  {
   "attachments": {},
   "cell_type": "markdown",
   "id": "c8fd9cac",
   "metadata": {},
   "source": [
    "### Columna Area"
   ]
  },
  {
   "cell_type": "code",
   "execution_count": 94,
   "id": "395cd442",
   "metadata": {},
   "outputs": [
    {
     "data": {
      "text/plain": [
       "Area\n",
       "Florida            1037\n",
       "New South Wales     486\n",
       "Queensland          311\n",
       "Hawaii              298\n",
       "California          290\n",
       "Name: count, dtype: int64"
      ]
     },
     "execution_count": 94,
     "metadata": {},
     "output_type": "execute_result"
    }
   ],
   "source": [
    "data['Area'].value_counts().head()"
   ]
  },
  {
   "cell_type": "code",
   "execution_count": 95,
   "id": "e99622ea",
   "metadata": {},
   "outputs": [],
   "source": [
    "def limpiar_area(zona):\n",
    "\n",
    "    if pd.isna(zona):\n",
    "        return 'Unknown'\n",
    "    \n",
    "    if not zona:\n",
    "        return 'Unknown'\n",
    "\n",
    "    zona = re.sub(r'[\\'\"\\,?:]|to|miles', '', zona)\n",
    "    zona = re.sub(r'\\b[a-z]\\b', '', zona)\n",
    "    zona = re.sub(r'\\d', '', zona)\n",
    "    zona = zona.title()\n",
    "    zona = zona.strip()\n",
    "\n",
    "    return zona"
   ]
  },
  {
   "cell_type": "code",
   "execution_count": 96,
   "id": "02217bad",
   "metadata": {},
   "outputs": [],
   "source": [
    "data[\"Area\"] = data[\"Area\"].apply(limpiar_area)"
   ]
  },
  {
   "cell_type": "code",
   "execution_count": 97,
   "id": "0b454b8f",
   "metadata": {},
   "outputs": [],
   "source": [
    "data['Area'] = data['Area'].str.replace('N W', 'Unknown')\n",
    "data['Area'] = data['Area'].str.replace('S / E', 'Unknown')\n",
    "data['Area'] = data['Area'].str.replace('.N-.W', 'Unknown')\n",
    "data['Area'] = data['Area'].str.replace('N E', 'Unknown')"
   ]
  },
  {
   "cell_type": "code",
   "execution_count": 98,
   "id": "bc9025c3",
   "metadata": {},
   "outputs": [
    {
     "data": {
      "text/plain": [
       "Area\n",
       "Florida            1038\n",
       "New South Wales     486\n",
       "Unknown             462\n",
       "Queensland          312\n",
       "Hawaii              298\n",
       "Name: count, dtype: int64"
      ]
     },
     "execution_count": 98,
     "metadata": {},
     "output_type": "execute_result"
    }
   ],
   "source": [
    "data['Area'].value_counts().head()"
   ]
  }
 ],
 "metadata": {
  "kernelspec": {
   "display_name": "Python 3 (ipykernel)",
   "language": "python",
   "name": "python3"
  },
  "language_info": {
   "codemirror_mode": {
    "name": "ipython",
    "version": 3
   },
   "file_extension": ".py",
   "mimetype": "text/x-python",
   "name": "python",
   "nbconvert_exporter": "python",
   "pygments_lexer": "ipython3",
   "version": "3.11.2"
  }
 },
 "nbformat": 4,
 "nbformat_minor": 5
}
