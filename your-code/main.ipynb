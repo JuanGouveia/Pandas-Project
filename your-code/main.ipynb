{
 "cells": [
  {
   "cell_type": "code",
   "execution_count": null,
   "id": "05e896b4",
   "metadata": {},
   "outputs": [],
   "source": [
    "import pandas as pd\n",
    "import numpy as np"
   ]
  },
  {
   "cell_type": "code",
   "execution_count": null,
   "id": "eb14b90a",
   "metadata": {},
   "outputs": [],
   "source": [
    "data = pd.read_csv('../data/attacks.csv', encoding = 'utf-8', encoding_errors = 'ignore')"
   ]
  },
  {
   "cell_type": "code",
   "execution_count": null,
   "id": "da5c5f1e",
   "metadata": {},
   "outputs": [],
   "source": [
    "pd.set_option('display.max_columns', None)\n",
    "\n",
    "data.head()"
   ]
  },
  {
   "cell_type": "code",
   "execution_count": null,
   "id": "5af2ff42",
   "metadata": {},
   "outputs": [],
   "source": [
    "data.shape"
   ]
  },
  {
   "cell_type": "code",
   "execution_count": null,
   "id": "21607aa3",
   "metadata": {},
   "outputs": [],
   "source": [
    "data.drop_duplicates().shape == data.shape"
   ]
  },
  {
   "cell_type": "code",
   "execution_count": null,
   "id": "f50e2bfc",
   "metadata": {},
   "outputs": [],
   "source": [
    "data.drop_duplicates(inplace=True)"
   ]
  },
  {
   "cell_type": "code",
   "execution_count": null,
   "id": "902fa133",
   "metadata": {},
   "outputs": [],
   "source": [
    "data.shape"
   ]
  },
  {
   "cell_type": "code",
   "execution_count": null,
   "id": "873e7b55",
   "metadata": {},
   "outputs": [],
   "source": [
    "porcent_null = (data.isnull().sum(axis = 1) / data.shape[1]) * 100  # se suman los nulos por las filas y esa suma se divide entre el numero total de columnas del dataframe, para obtener el porcentaje de valores nulos en cada fila \n",
    "porcent_bool = porcent_null > 75        # si el valor de una fila es True, significa que mas del 75% de valores de esa fila son nulos\n",
    "data = data.loc[~porcent_bool, :]       # seleccionamos con loc las filas que no tengan mas del 75% de nulos invirtiendo 'porcent_bool' con '~', y todas las columnas con ':'"
   ]
  },
  {
   "cell_type": "code",
   "execution_count": null,
   "id": "11f758a6",
   "metadata": {},
   "outputs": [],
   "source": [
    "data.shape"
   ]
  },
  {
   "cell_type": "code",
   "execution_count": null,
   "id": "997b213c",
   "metadata": {},
   "outputs": [],
   "source": [
    "data = data.reset_index(drop = True)    # aqui reseteamos los indices y ponemos la condicion 'drop = True', para borrar los indices anteriores\n",
    "data.tail()"
   ]
  },
  {
   "cell_type": "code",
   "execution_count": null,
   "id": "899112ec",
   "metadata": {},
   "outputs": [],
   "source": [
    "data['Type'].value_counts()"
   ]
  },
  {
   "cell_type": "code",
   "execution_count": null,
   "id": "ceaf421e",
   "metadata": {},
   "outputs": [],
   "source": [
    "# Creo un diccionario con los valores a reemplazar y el valor nuevo\n",
    "reempl = {'Boat': 'Boating', 'Boatomg': 'Boating'}\n",
    "\n",
    "# Reemplazo los valores en la columna \"Type\"\n",
    "data['Type'] = data['Type'].replace(reempl)"
   ]
  },
  {
   "cell_type": "code",
   "execution_count": null,
   "id": "5b32e9d2",
   "metadata": {},
   "outputs": [],
   "source": [
    "data['Type'].value_counts()"
   ]
  },
  {
   "cell_type": "code",
   "execution_count": null,
   "id": "92754da4",
   "metadata": {},
   "outputs": [],
   "source": [
    "valor = 'Questionable'\n",
    "filas_coincidentes = data[data['Type'] == valor].index          # filtrar por indice\n",
    "data_seleccionado = data.loc[filas_coincidentes, ['Activity', 'Injury', 'Species ']]\n",
    "\n",
    "data_seleccionado.head()"
   ]
  },
  {
   "cell_type": "code",
   "execution_count": null,
   "id": "e9752540",
   "metadata": {},
   "outputs": [],
   "source": [
    "data = data.drop([16, 20])"
   ]
  },
  {
   "cell_type": "code",
   "execution_count": null,
   "id": "3767063c",
   "metadata": {},
   "outputs": [],
   "source": [
    "data = data.reset_index(drop = True)    # aqui reseteamos los indices y ponemos la condicion 'drop = True', para borrar los indices anteriores"
   ]
  },
  {
   "cell_type": "code",
   "execution_count": null,
   "id": "f3550965",
   "metadata": {},
   "outputs": [],
   "source": [
    "data['Type'].value_counts()"
   ]
  },
  {
   "cell_type": "code",
   "execution_count": null,
   "id": "9ee56db1",
   "metadata": {},
   "outputs": [],
   "source": [
    "valor2 = 'Invalid'\n",
    "filas_coincidentes2 = data[data['Type'] == valor2].index          # filtrar por indice\n",
    "data_seleccionado2 = data.loc[filas_coincidentes2, ['Activity', 'Injury', 'Species ']]\n",
    "\n",
    "data_seleccionado2.head(10)"
   ]
  },
  {
   "cell_type": "code",
   "execution_count": null,
   "id": "df65a943",
   "metadata": {},
   "outputs": [],
   "source": [
    "def limpiar_type(x):\n",
    "\n",
    "    if pd.isnull(x):        # si es nulo lo convierte a x\n",
    "        return x\n",
    "    elif 'Unprovoked' in x:\n",
    "        return 'Unprovoked'\n",
    "    elif 'Provoked' in x:\n",
    "        return 'Provoked'\n",
    "    else:\n",
    "        return 'Unprovoked'"
   ]
  },
  {
   "cell_type": "code",
   "execution_count": null,
   "id": "098d68b4",
   "metadata": {},
   "outputs": [],
   "source": [
    "data.Type = data.Type.apply(limpiar_type)   # le aplicamos la funcion a la columna\n",
    "data['Type'].value_counts()"
   ]
  },
  {
   "cell_type": "code",
   "execution_count": null,
   "id": "b472c0b8",
   "metadata": {},
   "outputs": [],
   "source": [
    "data.head()"
   ]
  },
  {
   "cell_type": "code",
   "execution_count": null,
   "id": "a9bdd116",
   "metadata": {},
   "outputs": [],
   "source": [
    "data['Sex '].value_counts()"
   ]
  },
  {
   "cell_type": "code",
   "execution_count": null,
   "id": "bd28f84a",
   "metadata": {},
   "outputs": [],
   "source": [
    "data.rename(columns = {'Sex ': 'Sex'}, inplace=True)    #renombrar una columna"
   ]
  },
  {
   "cell_type": "code",
   "execution_count": null,
   "id": "6a2fbee7",
   "metadata": {},
   "outputs": [],
   "source": [
    "data['Sex'].value_counts()"
   ]
  },
  {
   "cell_type": "code",
   "execution_count": null,
   "id": "a3596e0a",
   "metadata": {},
   "outputs": [],
   "source": [
    "valor3 = '.'\n",
    "filas_coincidentes3 = data[data['Sex'] == valor3].index          # filtrar por indice\n",
    "data_seleccionado3 = data.loc[filas_coincidentes3, ['Activity', 'Injury', 'Species ', 'Name']]\n",
    "\n",
    "data_seleccionado3"
   ]
  },
  {
   "cell_type": "code",
   "execution_count": null,
   "id": "329f9899",
   "metadata": {},
   "outputs": [],
   "source": [
    "data.loc[5435]"
   ]
  },
  {
   "cell_type": "code",
   "execution_count": null,
   "id": "e2933089",
   "metadata": {},
   "outputs": [],
   "source": [
    "def limpiar_sex(x):\n",
    "\n",
    "    if pd.isnull(x):\n",
    "        return x\n",
    "    elif 'M' in x:\n",
    "        return 'Male'\n",
    "    elif 'F' in x:\n",
    "        return 'Female'\n",
    "    else:\n",
    "        return 'Unknown'"
   ]
  },
  {
   "cell_type": "code",
   "execution_count": null,
   "id": "b4db9d9e",
   "metadata": {},
   "outputs": [],
   "source": [
    "data.Sex = data.Sex.apply(limpiar_sex)\n",
    "data['Sex'].value_counts()"
   ]
  },
  {
   "cell_type": "code",
   "execution_count": null,
   "id": "cbf1283c",
   "metadata": {},
   "outputs": [],
   "source": [
    "valor3 = 'Unknown'\n",
    "filas_coincidentes3 = data[data['Sex'] == valor3].index          # filtrar por indice\n",
    "data_seleccionado3 = data.loc[filas_coincidentes3, ['Activity', 'Injury', 'Species ', 'Name']]\n",
    "\n",
    "data_seleccionado3"
   ]
  },
  {
   "cell_type": "code",
   "execution_count": null,
   "id": "a2fa2431",
   "metadata": {},
   "outputs": [],
   "source": [
    "data.head()"
   ]
  },
  {
   "cell_type": "code",
   "execution_count": null,
   "id": "ac758c4f",
   "metadata": {},
   "outputs": [],
   "source": [
    "data['Fatal (Y/N)'].value_counts()"
   ]
  },
  {
   "cell_type": "code",
   "execution_count": null,
   "id": "2bc82183",
   "metadata": {},
   "outputs": [],
   "source": [
    "valor4 = 'N '\n",
    "filas_coincidentes4 = data[data['Fatal (Y/N)'] == valor4].index          # filtrar por indice\n",
    "data_seleccionado4 = data.loc[filas_coincidentes4, ['Activity', 'Injury', 'Species ', 'Name']]\n",
    "\n",
    "data_seleccionado4"
   ]
  },
  {
   "cell_type": "code",
   "execution_count": null,
   "id": "04d10c55",
   "metadata": {},
   "outputs": [],
   "source": [
    "data.loc[784]"
   ]
  },
  {
   "cell_type": "code",
   "execution_count": null,
   "id": "3c14896a",
   "metadata": {},
   "outputs": [],
   "source": [
    "data.rename(columns = {'Fatal (Y/N)': 'Fatal'}, inplace=True)"
   ]
  },
  {
   "cell_type": "code",
   "execution_count": null,
   "id": "14deed25",
   "metadata": {},
   "outputs": [],
   "source": [
    "data['Fatal'].value_counts()"
   ]
  },
  {
   "cell_type": "code",
   "execution_count": null,
   "id": "3121cbf9",
   "metadata": {},
   "outputs": [],
   "source": [
    "def limpiar_fatal(x):\n",
    "    x = str(x).lower().strip()     # convertimos todo en str, lo pasamos a minusculas y quitamos los espacios que tengan tanto por der como por izq\n",
    "    if x == 'y':\n",
    "        return 'Yes'\n",
    "    elif x == 'n':\n",
    "        return 'No'\n",
    "    else:\n",
    "        return 'Unknown'"
   ]
  },
  {
   "cell_type": "code",
   "execution_count": null,
   "id": "86057b37",
   "metadata": {},
   "outputs": [],
   "source": [
    "data['Fatal'] = data['Fatal'].apply(limpiar_fatal)"
   ]
  },
  {
   "cell_type": "code",
   "execution_count": null,
   "id": "221924a2",
   "metadata": {},
   "outputs": [],
   "source": [
    "data['Fatal'].value_counts()"
   ]
  },
  {
   "cell_type": "code",
   "execution_count": null,
   "id": "843ec3c6",
   "metadata": {},
   "outputs": [],
   "source": [
    "data.head()"
   ]
  },
  {
   "cell_type": "code",
   "execution_count": null,
   "id": "93944349",
   "metadata": {},
   "outputs": [],
   "source": [
    "pd.unique(data['Year'])"
   ]
  },
  {
   "cell_type": "code",
   "execution_count": null,
   "id": "e5eb7a14",
   "metadata": {},
   "outputs": [],
   "source": [
    "data.Year.value_counts().head()"
   ]
  },
  {
   "cell_type": "code",
   "execution_count": null,
   "id": "8871bc15",
   "metadata": {},
   "outputs": [],
   "source": [
    "def limpiar_year(x):\n",
    "    if pd.isna(x):\n",
    "        return 0\n",
    "    elif len(str(int(x))) == 4:\n",
    "        return x\n",
    "    else:\n",
    "        return 0"
   ]
  },
  {
   "cell_type": "code",
   "execution_count": null,
   "id": "9648c0f8",
   "metadata": {},
   "outputs": [],
   "source": [
    "data['Year'] = data['Year'].apply(limpiar_year)"
   ]
  },
  {
   "cell_type": "code",
   "execution_count": null,
   "id": "cad1639c",
   "metadata": {},
   "outputs": [],
   "source": [
    "pd.unique(data['Year'])"
   ]
  },
  {
   "cell_type": "code",
   "execution_count": null,
   "id": "d229c359",
   "metadata": {},
   "outputs": [],
   "source": [
    "data['Year'] = data['Year'].astype(int)"
   ]
  },
  {
   "cell_type": "code",
   "execution_count": null,
   "id": "539a395c",
   "metadata": {},
   "outputs": [],
   "source": [
    "data['Year'] = data['Year'].replace(0, 'Unknown')"
   ]
  },
  {
   "cell_type": "code",
   "execution_count": null,
   "id": "a99bc365",
   "metadata": {},
   "outputs": [],
   "source": [
    "pd.unique(data['Year'])"
   ]
  },
  {
   "cell_type": "code",
   "execution_count": null,
   "id": "40d412d9",
   "metadata": {},
   "outputs": [],
   "source": [
    "data.head()"
   ]
  },
  {
   "cell_type": "code",
   "execution_count": null,
   "id": "0ed84dbb",
   "metadata": {},
   "outputs": [],
   "source": [
    "data['Country'].value_counts()"
   ]
  },
  {
   "cell_type": "code",
   "execution_count": null,
   "id": "f4831684",
   "metadata": {},
   "outputs": [],
   "source": [
    "pd.unique(data.Country)"
   ]
  },
  {
   "cell_type": "code",
   "execution_count": null,
   "id": "7bacbe7f",
   "metadata": {},
   "outputs": [],
   "source": [
    "#data.insert(5, 'Region', '')"
   ]
  },
  {
   "cell_type": "code",
   "execution_count": null,
   "id": "3513a3f2",
   "metadata": {},
   "outputs": [],
   "source": [
    "import re\n",
    "\n",
    "def limpiar_country(string):\n",
    "    if re.search(r'\\b(OCEAN|SEA|PACIFIC|AFRICA|ASIA|DIEGO|BETWEEN)\\b', string, re.IGNORECASE):\n",
    "        return 'UNKNOWN'\n",
    "    else:\n",
    "        return string\n",
    "\n",
    "\n",
    "# Para crear region con los oceanos\n",
    "\n",
    "#def limpiar_country(row):\n",
    "#    if isinstance(row['Country'], str) and re.search(r'\\b(OCEAN|SEA|PACIFIC|AFRICA|ASIA)\\b', row['Country'], re.IGNORECASE):\n",
    "#        return pd.Series({'Country': 'UNKNOWN', 'Region': row['Country']})\n",
    "#    else:\n",
    "#        return pd.Series({'Country': row['Country'], 'Region': row['Region']})"
   ]
  },
  {
   "cell_type": "code",
   "execution_count": null,
   "id": "4f4f939a",
   "metadata": {},
   "outputs": [],
   "source": [
    "# Convierte todo en mayúsculas y rellena nulos con 'UNKNOWN'\n",
    "data['Country'] = data['Country'].str.upper().str.strip().fillna('UNKNOWN')\n",
    "\n",
    "#data['Region'] = data['Region'].str.upper().str.strip().fillna('UNKNOWN')\n",
    "\n",
    "# Elimina espacios y signos de interrogación de los nombres de los países\n",
    "data['Country'] = data['Country'].str.replace(r'?', '').str.strip()\n",
    "data['Country'] = data['Country'].str.replace(r'&', '/')\n",
    "\n",
    "#data['Region'] = data['Region'].str.replace(r'?', '').str.strip()\n",
    "\n",
    "# Modificaciones puntuales\n",
    "data['Country'] = data['Country'].str.replace('ISLANDAS', 'ISLANDS')\n",
    "data['Country'] = data['Country'].str.replace('(UAE)', '').str.strip()\n",
    "data['Country'] = data['Country'].str.replace('(SRI LANKA)', '').str.strip()\n",
    "data['Country'] = data['Country'].str.replace('DIEGO GARCIA', 'UNKNOWN')\n",
    "data['Country'] = data['Country'].str.replace('BETWEEN PORTUGAL / INDIA', 'UNKNOWN')\n",
    "\n",
    "#data['Region'] = data['Region'].str.replace('', 'UNKNOWN')"
   ]
  },
  {
   "cell_type": "code",
   "execution_count": null,
   "id": "2a927b76",
   "metadata": {},
   "outputs": [],
   "source": [
    "data['Country'] = data['Country'].apply(limpiar_country)\n",
    "\n",
    "# Para aplicar la funcion de region\n",
    "\n",
    "#columns_to_clean = ['Country', 'Region']\n",
    "#data[columns_to_clean] = data[columns_to_clean].apply(limpiar_country, axis=1)\n",
    "\n",
    "# Rellenar los valores NaN en la columna \"Region\" con una cadena vacía\n",
    "#data['Region'] = data['Region'].fillna('')"
   ]
  },
  {
   "cell_type": "code",
   "execution_count": null,
   "id": "92ae27cc",
   "metadata": {},
   "outputs": [],
   "source": [
    "pd.unique(data.Country)"
   ]
  },
  {
   "cell_type": "code",
   "execution_count": null,
   "id": "baa990bd",
   "metadata": {},
   "outputs": [],
   "source": [
    "data['Country'].value_counts()"
   ]
  },
  {
   "cell_type": "code",
   "execution_count": null,
   "id": "87a096ea",
   "metadata": {},
   "outputs": [],
   "source": [
    "data.head()"
   ]
  },
  {
   "cell_type": "code",
   "execution_count": null,
   "id": "423fa692",
   "metadata": {},
   "outputs": [],
   "source": [
    "data.shape"
   ]
  },
  {
   "cell_type": "code",
   "execution_count": null,
   "id": "ba1b2a70",
   "metadata": {},
   "outputs": [],
   "source": [
    "data.Age.value_counts()"
   ]
  },
  {
   "cell_type": "code",
   "execution_count": null,
   "id": "f7a51423",
   "metadata": {},
   "outputs": [],
   "source": [
    "pd.unique(data.Age)"
   ]
  },
  {
   "cell_type": "code",
   "execution_count": null,
   "id": "bf1ba88a",
   "metadata": {},
   "outputs": [],
   "source": [
    "#def limpiar_age(x):\n",
    "    # Reemplazar los NaN por 'Unknown'\n",
    "#    if pd.isna(x):\n",
    "#        return 'Unknown'\n",
    "    \n",
    "    # Convertir strings completamente en palabras a 'Unknown'\n",
    "#    if not re.match(r'^\\d+|\\d+\\.\\d+$', x):\n",
    "#        return 'Unknown'\n",
    "    \n",
    "    # Reemplazar comillas, signos de interrogación por nada\n",
    "#    x = re.sub(r'[\\'\"\\?]', '', x)\n",
    "    \n",
    "    # Reemplazar strings entre paréntesis por 'Unknown'\n",
    "#    x = re.sub(r'\\(.*\\)', 'Unknown', x)\n",
    "    \n",
    "#    return x"
   ]
  },
  {
   "cell_type": "code",
   "execution_count": null,
   "id": "1a3a66d6",
   "metadata": {},
   "outputs": [],
   "source": [
    "#data['Age'] = data.Age.apply(limpiar_age)"
   ]
  },
  {
   "cell_type": "code",
   "execution_count": null,
   "id": "f6500a0d",
   "metadata": {},
   "outputs": [],
   "source": [
    "def limpiar_edad(edad):\n",
    "    # Convertir la cadena a minúsculas y eliminar los espacios en blanco\n",
    "    edad = str(edad).lower().replace(\" \", \"\")\n",
    "    \n",
    "    # Reemplazar los NaN por 'Unknown'\n",
    "    if pd.isna(edad):\n",
    "        return 'Unknown'\n",
    "    \n",
    "    # Si la edad contiene un rango, calcular la edad media del rango\n",
    "    #if \"-\" in edad:\n",
    "    #    edades = re.findall(r'\\d+', edad)\n",
    "    #    media = (int(edades[0]) + int(edades[1])) / 2\n",
    "    #    return int(media)\n",
    "    \n",
    "    # Si la edad contiene la palabra \"months\", convertir a años\n",
    "    if \"month\" in edad:\n",
    "        meses = re.findall(r'\\d+', edad)\n",
    "        return int(int(meses[0]) / 12)\n",
    "    \n",
    "    # Convertir strings completamente en palabras a 'Unknown'\n",
    "    if not re.match(r'^\\d+|\\d+\\.\\d+$', edad):\n",
    "        return 'Unknown'\n",
    "        \n",
    "    # Reemplazar strings entre paréntesis por 'Unknown'\n",
    "    x = re.sub(r'\\(.*\\)', 'Unknown', edad)\n",
    "\n",
    "    # Eliminar todos los caracteres que no sean dígitos y convertir a entero\n",
    "    #edad = re.sub(r'\\D', '', edad)\n",
    "    #return int(edad)\n",
    "\n",
    "# Aplicar la función \"limpiar_edad\" a la columna \"Age\" del marco de datos\n",
    "data[\"Age\"] = data[\"Age\"].apply(limpiar_edad)"
   ]
  },
  {
   "cell_type": "code",
   "execution_count": null,
   "id": "64a0f835",
   "metadata": {},
   "outputs": [],
   "source": [
    "pd.unique(data.Age)"
   ]
  }
 ],
 "metadata": {
  "kernelspec": {
   "display_name": "Python 3 (ipykernel)",
   "language": "python",
   "name": "python3"
  },
  "language_info": {
   "codemirror_mode": {
    "name": "ipython",
    "version": 3
   },
   "file_extension": ".py",
   "mimetype": "text/x-python",
   "name": "python",
   "nbconvert_exporter": "python",
   "pygments_lexer": "ipython3",
   "version": "3.11.2"
  }
 },
 "nbformat": 4,
 "nbformat_minor": 5
}
